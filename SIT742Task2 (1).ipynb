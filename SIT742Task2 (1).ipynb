{
  "nbformat": 4,
  "nbformat_minor": 0,
  "metadata": {
    "colab": {
      "provenance": []
    },
    "kernelspec": {
      "name": "python3",
      "display_name": "Python 3"
    },
    "language_info": {
      "name": "python"
    }
  },
  "cells": [
    {
      "cell_type": "code",
      "execution_count": 1,
      "metadata": {
        "colab": {
          "base_uri": "https://localhost:8080/",
          "height": 0
        },
        "id": "XK3qjmhtDxdw",
        "outputId": "f157489c-bcc7-4af8-dafb-d21ba552894e"
      },
      "outputs": [
        {
          "output_type": "stream",
          "name": "stdout",
          "text": [
            "Collecting pyspark\n",
            "  Downloading pyspark-3.5.2.tar.gz (317.3 MB)\n",
            "\u001b[2K     \u001b[90m━━━━━━━━━━━━━━━━━━━━━━━━━━━━━━━━━━━━━━━━\u001b[0m \u001b[32m317.3/317.3 MB\u001b[0m \u001b[31m4.7 MB/s\u001b[0m eta \u001b[36m0:00:00\u001b[0m\n",
            "\u001b[?25h  Preparing metadata (setup.py) ... \u001b[?25l\u001b[?25hdone\n",
            "Requirement already satisfied: py4j==0.10.9.7 in /usr/local/lib/python3.10/dist-packages (from pyspark) (0.10.9.7)\n",
            "Building wheels for collected packages: pyspark\n",
            "  Building wheel for pyspark (setup.py) ... \u001b[?25l\u001b[?25hdone\n",
            "  Created wheel for pyspark: filename=pyspark-3.5.2-py2.py3-none-any.whl size=317812365 sha256=ae13ebedec42b1ee9a220c3d8bf3956c40da4a2e1af04655285b72f836f2d8dc\n",
            "  Stored in directory: /root/.cache/pip/wheels/34/34/bd/03944534c44b677cd5859f248090daa9fb27b3c8f8e5f49574\n",
            "Successfully built pyspark\n",
            "Installing collected packages: pyspark\n",
            "Successfully installed pyspark-3.5.2\n"
          ]
        }
      ],
      "source": [
        "!pip install pyspark"
      ]
    },
    {
      "cell_type": "code",
      "source": [
        "from google.colab import files"
      ],
      "metadata": {
        "id": "HvWrecPsFYRt"
      },
      "execution_count": 2,
      "outputs": []
    },
    {
      "cell_type": "code",
      "source": [
        "uploaded = files.upload()\n"
      ],
      "metadata": {
        "colab": {
          "base_uri": "https://localhost:8080/",
          "height": 73
        },
        "id": "xYzh3G52FYVo",
        "outputId": "27eb38e7-8d8b-41de-9f4d-4e314db1dd99"
      },
      "execution_count": 3,
      "outputs": [
        {
          "output_type": "display_data",
          "data": {
            "text/plain": [
              "<IPython.core.display.HTML object>"
            ],
            "text/html": [
              "\n",
              "     <input type=\"file\" id=\"files-3d2ce03d-c8e2-4dea-8f91-68a687874dac\" name=\"files[]\" multiple disabled\n",
              "        style=\"border:none\" />\n",
              "     <output id=\"result-3d2ce03d-c8e2-4dea-8f91-68a687874dac\">\n",
              "      Upload widget is only available when the cell has been executed in the\n",
              "      current browser session. Please rerun this cell to enable.\n",
              "      </output>\n",
              "      <script>// Copyright 2017 Google LLC\n",
              "//\n",
              "// Licensed under the Apache License, Version 2.0 (the \"License\");\n",
              "// you may not use this file except in compliance with the License.\n",
              "// You may obtain a copy of the License at\n",
              "//\n",
              "//      http://www.apache.org/licenses/LICENSE-2.0\n",
              "//\n",
              "// Unless required by applicable law or agreed to in writing, software\n",
              "// distributed under the License is distributed on an \"AS IS\" BASIS,\n",
              "// WITHOUT WARRANTIES OR CONDITIONS OF ANY KIND, either express or implied.\n",
              "// See the License for the specific language governing permissions and\n",
              "// limitations under the License.\n",
              "\n",
              "/**\n",
              " * @fileoverview Helpers for google.colab Python module.\n",
              " */\n",
              "(function(scope) {\n",
              "function span(text, styleAttributes = {}) {\n",
              "  const element = document.createElement('span');\n",
              "  element.textContent = text;\n",
              "  for (const key of Object.keys(styleAttributes)) {\n",
              "    element.style[key] = styleAttributes[key];\n",
              "  }\n",
              "  return element;\n",
              "}\n",
              "\n",
              "// Max number of bytes which will be uploaded at a time.\n",
              "const MAX_PAYLOAD_SIZE = 100 * 1024;\n",
              "\n",
              "function _uploadFiles(inputId, outputId) {\n",
              "  const steps = uploadFilesStep(inputId, outputId);\n",
              "  const outputElement = document.getElementById(outputId);\n",
              "  // Cache steps on the outputElement to make it available for the next call\n",
              "  // to uploadFilesContinue from Python.\n",
              "  outputElement.steps = steps;\n",
              "\n",
              "  return _uploadFilesContinue(outputId);\n",
              "}\n",
              "\n",
              "// This is roughly an async generator (not supported in the browser yet),\n",
              "// where there are multiple asynchronous steps and the Python side is going\n",
              "// to poll for completion of each step.\n",
              "// This uses a Promise to block the python side on completion of each step,\n",
              "// then passes the result of the previous step as the input to the next step.\n",
              "function _uploadFilesContinue(outputId) {\n",
              "  const outputElement = document.getElementById(outputId);\n",
              "  const steps = outputElement.steps;\n",
              "\n",
              "  const next = steps.next(outputElement.lastPromiseValue);\n",
              "  return Promise.resolve(next.value.promise).then((value) => {\n",
              "    // Cache the last promise value to make it available to the next\n",
              "    // step of the generator.\n",
              "    outputElement.lastPromiseValue = value;\n",
              "    return next.value.response;\n",
              "  });\n",
              "}\n",
              "\n",
              "/**\n",
              " * Generator function which is called between each async step of the upload\n",
              " * process.\n",
              " * @param {string} inputId Element ID of the input file picker element.\n",
              " * @param {string} outputId Element ID of the output display.\n",
              " * @return {!Iterable<!Object>} Iterable of next steps.\n",
              " */\n",
              "function* uploadFilesStep(inputId, outputId) {\n",
              "  const inputElement = document.getElementById(inputId);\n",
              "  inputElement.disabled = false;\n",
              "\n",
              "  const outputElement = document.getElementById(outputId);\n",
              "  outputElement.innerHTML = '';\n",
              "\n",
              "  const pickedPromise = new Promise((resolve) => {\n",
              "    inputElement.addEventListener('change', (e) => {\n",
              "      resolve(e.target.files);\n",
              "    });\n",
              "  });\n",
              "\n",
              "  const cancel = document.createElement('button');\n",
              "  inputElement.parentElement.appendChild(cancel);\n",
              "  cancel.textContent = 'Cancel upload';\n",
              "  const cancelPromise = new Promise((resolve) => {\n",
              "    cancel.onclick = () => {\n",
              "      resolve(null);\n",
              "    };\n",
              "  });\n",
              "\n",
              "  // Wait for the user to pick the files.\n",
              "  const files = yield {\n",
              "    promise: Promise.race([pickedPromise, cancelPromise]),\n",
              "    response: {\n",
              "      action: 'starting',\n",
              "    }\n",
              "  };\n",
              "\n",
              "  cancel.remove();\n",
              "\n",
              "  // Disable the input element since further picks are not allowed.\n",
              "  inputElement.disabled = true;\n",
              "\n",
              "  if (!files) {\n",
              "    return {\n",
              "      response: {\n",
              "        action: 'complete',\n",
              "      }\n",
              "    };\n",
              "  }\n",
              "\n",
              "  for (const file of files) {\n",
              "    const li = document.createElement('li');\n",
              "    li.append(span(file.name, {fontWeight: 'bold'}));\n",
              "    li.append(span(\n",
              "        `(${file.type || 'n/a'}) - ${file.size} bytes, ` +\n",
              "        `last modified: ${\n",
              "            file.lastModifiedDate ? file.lastModifiedDate.toLocaleDateString() :\n",
              "                                    'n/a'} - `));\n",
              "    const percent = span('0% done');\n",
              "    li.appendChild(percent);\n",
              "\n",
              "    outputElement.appendChild(li);\n",
              "\n",
              "    const fileDataPromise = new Promise((resolve) => {\n",
              "      const reader = new FileReader();\n",
              "      reader.onload = (e) => {\n",
              "        resolve(e.target.result);\n",
              "      };\n",
              "      reader.readAsArrayBuffer(file);\n",
              "    });\n",
              "    // Wait for the data to be ready.\n",
              "    let fileData = yield {\n",
              "      promise: fileDataPromise,\n",
              "      response: {\n",
              "        action: 'continue',\n",
              "      }\n",
              "    };\n",
              "\n",
              "    // Use a chunked sending to avoid message size limits. See b/62115660.\n",
              "    let position = 0;\n",
              "    do {\n",
              "      const length = Math.min(fileData.byteLength - position, MAX_PAYLOAD_SIZE);\n",
              "      const chunk = new Uint8Array(fileData, position, length);\n",
              "      position += length;\n",
              "\n",
              "      const base64 = btoa(String.fromCharCode.apply(null, chunk));\n",
              "      yield {\n",
              "        response: {\n",
              "          action: 'append',\n",
              "          file: file.name,\n",
              "          data: base64,\n",
              "        },\n",
              "      };\n",
              "\n",
              "      let percentDone = fileData.byteLength === 0 ?\n",
              "          100 :\n",
              "          Math.round((position / fileData.byteLength) * 100);\n",
              "      percent.textContent = `${percentDone}% done`;\n",
              "\n",
              "    } while (position < fileData.byteLength);\n",
              "  }\n",
              "\n",
              "  // All done.\n",
              "  yield {\n",
              "    response: {\n",
              "      action: 'complete',\n",
              "    }\n",
              "  };\n",
              "}\n",
              "\n",
              "scope.google = scope.google || {};\n",
              "scope.google.colab = scope.google.colab || {};\n",
              "scope.google.colab._files = {\n",
              "  _uploadFiles,\n",
              "  _uploadFilesContinue,\n",
              "};\n",
              "})(self);\n",
              "</script> "
            ]
          },
          "metadata": {}
        },
        {
          "output_type": "stream",
          "name": "stdout",
          "text": [
            "Saving transactionrecord to transactionrecord\n"
          ]
        }
      ]
    },
    {
      "cell_type": "code",
      "source": [
        "!ls"
      ],
      "metadata": {
        "colab": {
          "base_uri": "https://localhost:8080/",
          "height": 0
        },
        "id": "ub0Oy3GiKFQ7",
        "outputId": "6eac8184-6d5a-408d-b2bb-be248ba5441c"
      },
      "execution_count": 7,
      "outputs": [
        {
          "output_type": "stream",
          "name": "stdout",
          "text": [
            "sample_data  transactionrecord\n"
          ]
        }
      ]
    },
    {
      "cell_type": "code",
      "source": [
        "from pyspark.sql import SparkSession"
      ],
      "metadata": {
        "id": "b4gsRR9zFpvG"
      },
      "execution_count": 4,
      "outputs": []
    },
    {
      "cell_type": "code",
      "source": [
        "spark = SparkSession.builder.appName(\"TransactionAnalysis\").getOrCreate()"
      ],
      "metadata": {
        "id": "4jMcQIbMFp2r"
      },
      "execution_count": 5,
      "outputs": []
    },
    {
      "cell_type": "code",
      "source": [
        "df = spark.read.csv('/content/transactionrecord', header=True, inferSchema=True)"
      ],
      "metadata": {
        "id": "BmcNZtQiLY9M"
      },
      "execution_count": 10,
      "outputs": []
    },
    {
      "cell_type": "code",
      "source": [
        "df.show(5)"
      ],
      "metadata": {
        "colab": {
          "base_uri": "https://localhost:8080/",
          "height": 0
        },
        "id": "zQCzpGuSLjhn",
        "outputId": "f9e0f7b7-f0cc-4679-e3c4-202dd80757c7"
      },
      "execution_count": 11,
      "outputs": [
        {
          "output_type": "stream",
          "name": "stdout",
          "text": [
            "+-------------+---------+---------+--------------------+----------------+-----+--------+----------+--------------+\n",
            "|TransactionNo|     Date|ProductNo|         ProductName|Product_category|Price|Quantity|CustomerNo|       Country|\n",
            "+-------------+---------+---------+--------------------+----------------+-----+--------+----------+--------------+\n",
            "|       581482|12/9/2019|    22485|Set Of 2 Wooden M...|             0ca|21.47|      12|     17490|United Kingdom|\n",
            "|       581475|12/9/2019|    22596|Christmas Star Wi...|             0ca|10.65|      36|     13069|United Kingdom|\n",
            "|       581475|12/9/2019|    23235|Storage Tin Vinta...|             0ca|11.53|      12|     13069|United Kingdom|\n",
            "|       581475|12/9/2019|    23272|Tree T-Light Hold...|             0ca|10.65|      12|     13069|United Kingdom|\n",
            "|       581475|12/9/2019|    23239|Set Of 4 Knick Kn...|             0ca|11.94|       6|     13069|United Kingdom|\n",
            "+-------------+---------+---------+--------------------+----------------+-----+--------+----------+--------------+\n",
            "only showing top 5 rows\n",
            "\n"
          ]
        }
      ]
    },
    {
      "cell_type": "markdown",
      "source": [
        "**Quetion 1**"
      ],
      "metadata": {
        "id": "-vSMyvmHL2Ic"
      }
    },
    {
      "cell_type": "code",
      "source": [
        "from pyspark.sql.functions import regexp_replace, col, when\n",
        "from pyspark.sql import functions as F"
      ],
      "metadata": {
        "id": "2-wlImyEL8eN"
      },
      "execution_count": 12,
      "outputs": []
    },
    {
      "cell_type": "markdown",
      "source": [
        "**1.1.1**"
      ],
      "metadata": {
        "id": "Rz6jltkZMGV9"
      }
    },
    {
      "cell_type": "code",
      "source": [
        "# 1.1.1 Replace 'NA' in CustomerNo column with '-1'\n",
        "df_cleaned = df.withColumn('CustomerNo', when(col('CustomerNo').isNull(), '-1').otherwise(col('CustomerNo')))"
      ],
      "metadata": {
        "id": "PK-_ENuGMLNt"
      },
      "execution_count": 13,
      "outputs": []
    },
    {
      "cell_type": "code",
      "source": [
        "# 1.1.2 Create a new column 'productName_process' that only contains alphabetic characters\n",
        "# Remove non-alphabetic characters using regexp_replace and store in a new column\n",
        "df_cleaned = df_cleaned.withColumn('productName_process', regexp_replace(col('ProductName'), '[^a-zA-Z ]', ''))"
      ],
      "metadata": {
        "id": "QDWdi1Q6ML9a"
      },
      "execution_count": 14,
      "outputs": []
    },
    {
      "cell_type": "code",
      "source": [
        "\n",
        "# Show the first 5 rows to verify the changes\n",
        "df_cleaned.select('CustomerNo', 'ProductName', 'productName_process').show(5, truncate=False)"
      ],
      "metadata": {
        "colab": {
          "base_uri": "https://localhost:8080/",
          "height": 0
        },
        "id": "8w4RbPxYMQVL",
        "outputId": "e6e0b871-cbf2-46ed-e239-2fabc6b15137"
      },
      "execution_count": 15,
      "outputs": [
        {
          "output_type": "stream",
          "name": "stdout",
          "text": [
            "+----------+-----------------------------------+-----------------------------------+\n",
            "|CustomerNo|ProductName                        |productName_process                |\n",
            "+----------+-----------------------------------+-----------------------------------+\n",
            "|17490     |Set Of 2 Wooden Market Crates      |Set Of  Wooden Market Crates       |\n",
            "|13069     |Christmas Star Wish List Chalkboard|Christmas Star Wish List Chalkboard|\n",
            "|13069     |Storage Tin Vintage Leaf           |Storage Tin Vintage Leaf           |\n",
            "|13069     |Tree T-Light Holder Willie Winkie  |Tree TLight Holder Willie Winkie   |\n",
            "|13069     |Set Of 4 Knick Knack Tins Poppies  |Set Of  Knick Knack Tins Poppies   |\n",
            "+----------+-----------------------------------+-----------------------------------+\n",
            "only showing top 5 rows\n",
            "\n"
          ]
        }
      ]
    },
    {
      "cell_type": "markdown",
      "source": [
        "**Question 2**"
      ],
      "metadata": {
        "id": "NYkiylzmMfp2"
      }
    },
    {
      "cell_type": "code",
      "source": [
        "# importing libraries\n",
        "import pandas as pd\n",
        "import numpy as np\n",
        "import matplotlib.pyplot as plt\n",
        "import seaborn as sns\n",
        "from pyspark.sql.functions import col, sum as _sum"
      ],
      "metadata": {
        "id": "q0rzR_y-MlS0"
      },
      "execution_count": 16,
      "outputs": []
    },
    {
      "cell_type": "markdown",
      "source": [
        "**1.2.1**"
      ],
      "metadata": {
        "id": "iUplSopxMp_I"
      }
    },
    {
      "cell_type": "code",
      "source": [
        "# 1.2.1 Calculate Revenue (Price * Quantity)\n",
        "df_with_revenue = df.withColumn('Revenue', (col('Price') * col('Quantity')).cast('float'))"
      ],
      "metadata": {
        "id": "K4HbekrOMovb"
      },
      "execution_count": 17,
      "outputs": []
    },
    {
      "cell_type": "code",
      "source": [
        "# Show top 5 rows to verify Revenue calculation\n",
        "df_with_revenue.select('Date', 'Price', 'Quantity', 'Revenue').show(5)"
      ],
      "metadata": {
        "colab": {
          "base_uri": "https://localhost:8080/",
          "height": 0
        },
        "id": "Vd9jbarHLz8o",
        "outputId": "09fd6a7d-6561-4db4-c17b-2cc656965631"
      },
      "execution_count": 18,
      "outputs": [
        {
          "output_type": "stream",
          "name": "stdout",
          "text": [
            "+---------+-----+--------+-------+\n",
            "|     Date|Price|Quantity|Revenue|\n",
            "+---------+-----+--------+-------+\n",
            "|12/9/2019|21.47|      12| 257.64|\n",
            "|12/9/2019|10.65|      36|  383.4|\n",
            "|12/9/2019|11.53|      12| 138.36|\n",
            "|12/9/2019|10.65|      12|  127.8|\n",
            "|12/9/2019|11.94|       6|  71.64|\n",
            "+---------+-----+--------+-------+\n",
            "only showing top 5 rows\n",
            "\n"
          ]
        }
      ]
    },
    {
      "cell_type": "markdown",
      "source": [
        "**1.2.2**"
      ],
      "metadata": {
        "id": "aoJ6JQ7fM-Oe"
      }
    },
    {
      "cell_type": "code",
      "source": [
        "# 1.2.2 Convert PySpark DataFrame to Pandas DataFrame\n",
        "# First, collect PySpark DataFrame to Pandas\n",
        "df_pandas = df_with_revenue.toPandas()"
      ],
      "metadata": {
        "id": "IV_aXodiL0Bb"
      },
      "execution_count": 19,
      "outputs": []
    },
    {
      "cell_type": "code",
      "source": [
        "# Convert 'Date' to datetime format in Pandas and create 'transaction_date' column\n",
        "df_pandas['transaction_date'] = pd.to_datetime(df_pandas['Date'], dayfirst=True, errors='coerce')"
      ],
      "metadata": {
        "id": "AtKw2HHLNDsl"
      },
      "execution_count": 20,
      "outputs": []
    },
    {
      "cell_type": "code",
      "source": [
        "# Show the top 5 rows in Pandas DataFrame to verify\n",
        "print(df_pandas[['Date', 'transaction_date']].head())"
      ],
      "metadata": {
        "colab": {
          "base_uri": "https://localhost:8080/",
          "height": 0
        },
        "id": "30RHyntHL0H4",
        "outputId": "4afff360-6ff8-4cc9-a48c-c40a1433a5bc"
      },
      "execution_count": 21,
      "outputs": [
        {
          "output_type": "stream",
          "name": "stdout",
          "text": [
            "        Date transaction_date\n",
            "0  12/9/2019       2019-09-12\n",
            "1  12/9/2019       2019-09-12\n",
            "2  12/9/2019       2019-09-12\n",
            "3  12/9/2019       2019-09-12\n",
            "4  12/9/2019       2019-09-12\n"
          ]
        }
      ]
    },
    {
      "cell_type": "markdown",
      "source": [
        "**1.2.3**"
      ],
      "metadata": {
        "id": "FZvFYLTtNMES"
      }
    },
    {
      "cell_type": "code",
      "source": [
        "# 1.2.3 Plot the Sum of Revenue on Transaction Date\n",
        "# Group by 'transaction_date' and sum the revenue\n",
        "df_grouped = df_pandas.groupby('transaction_date')['Revenue'].sum().reset_index()"
      ],
      "metadata": {
        "id": "k_i2JaRVNTF6"
      },
      "execution_count": 22,
      "outputs": []
    },
    {
      "cell_type": "code",
      "source": [
        "plt.figure(figsize=(10, 6))\n",
        "sns.lineplot(x='transaction_date', y='Revenue', data=df_grouped, marker='o')\n",
        "plt.title('Revenue per Transaction Date')\n",
        "plt.xlabel('Transaction Date')\n",
        "plt.ylabel('Revenue')\n",
        "plt.xticks(rotation=45)\n",
        "plt.tight_layout()\n",
        "plt.show()"
      ],
      "metadata": {
        "colab": {
          "base_uri": "https://localhost:8080/",
          "height": 607
        },
        "id": "PCzY8yfdL0Mv",
        "outputId": "cc67400c-6bae-4744-cca5-42a308dbff38"
      },
      "execution_count": 23,
      "outputs": [
        {
          "output_type": "display_data",
          "data": {
            "text/plain": [
              "<Figure size 1000x600 with 1 Axes>"
            ],
            "image/png": "[encoded data removed]"
          },
          "metadata": {}
        }
      ]
    },
    {
      "cell_type": "markdown",
      "source": [
        "**Immediate insight**\n",
        "\n",
        "The revenue plot shows an initial decline, followed by fluctuations that stabilize. High volatility is observed, with several peaks and troughs suggesting inconsistent daily revenue. Significant spikes in the middle and end likely result from promotional events or seasonal demand. Towards the end, revenue stabilizes within a consistent range, indicating potential market or customer behavior normalization after earlier fluctuations."
      ],
      "metadata": {
        "id": "qhniQmQaNcgK"
      }
    },
    {
      "cell_type": "markdown",
      "source": [
        "**Question 1.3**"
      ],
      "metadata": {
        "id": "c0p1vDcXNgeK"
      }
    },
    {
      "cell_type": "markdown",
      "source": [
        "**1.3.1**"
      ],
      "metadata": {
        "id": "fiJpXtOANn5M"
      }
    },
    {
      "cell_type": "code",
      "source": [
        "# Import necessary functions\n",
        "from pyspark.sql.functions import dayofweek, col, avg"
      ],
      "metadata": {
        "id": "YV_BfNI4L0Ru"
      },
      "execution_count": 24,
      "outputs": []
    },
    {
      "cell_type": "code",
      "source": [
        "# chacking if transaction_date exists\n",
        "print(df_pandas[['Date', 'transaction_date']].head())"
      ],
      "metadata": {
        "colab": {
          "base_uri": "https://localhost:8080/",
          "height": 0
        },
        "id": "AOAQv7hTL0aE",
        "outputId": "a099d82a-2626-4f25-89c2-262bb2aca604"
      },
      "execution_count": 26,
      "outputs": [
        {
          "output_type": "stream",
          "name": "stdout",
          "text": [
            "        Date transaction_date\n",
            "0  12/9/2019       2019-09-12\n",
            "1  12/9/2019       2019-09-12\n",
            "2  12/9/2019       2019-09-12\n",
            "3  12/9/2019       2019-09-12\n",
            "4  12/9/2019       2019-09-12\n"
          ]
        }
      ]
    },
    {
      "cell_type": "code",
      "source": [
        "# converting pandas df to pyspark df\n",
        "spark_df = spark.createDataFrame(df_pandas)"
      ],
      "metadata": {
        "id": "Jn69UF67N85a"
      },
      "execution_count": 27,
      "outputs": []
    },
    {
      "cell_type": "code",
      "source": [
        "# Checking  transaction_date in PySpark df\n",
        "spark_df.printSchema()"
      ],
      "metadata": {
        "colab": {
          "base_uri": "https://localhost:8080/",
          "height": 0
        },
        "id": "oVsqM2ITN8-k",
        "outputId": "e23e6124-1d6d-43b0-b832-ba565516ff88"
      },
      "execution_count": 28,
      "outputs": [
        {
          "output_type": "stream",
          "name": "stdout",
          "text": [
            "root\n",
            " |-- TransactionNo: string (nullable = true)\n",
            " |-- Date: string (nullable = true)\n",
            " |-- ProductNo: string (nullable = true)\n",
            " |-- ProductName: string (nullable = true)\n",
            " |-- Product_category: string (nullable = true)\n",
            " |-- Price: double (nullable = true)\n",
            " |-- Quantity: long (nullable = true)\n",
            " |-- CustomerNo: long (nullable = true)\n",
            " |-- Country: string (nullable = true)\n",
            " |-- Revenue: double (nullable = true)\n",
            " |-- transaction_date: timestamp (nullable = true)\n",
            "\n"
          ]
        }
      ]
    },
    {
      "cell_type": "code",
      "source": [
        "# Add 'workday' column to indicate day of the week\n",
        "spark_df_with_day = spark_df.withColumn('workday', dayofweek(col('transaction_date')))"
      ],
      "metadata": {
        "id": "7fJojoKmN9Dh"
      },
      "execution_count": 29,
      "outputs": []
    },
    {
      "cell_type": "code",
      "source": [
        "# Calculate 'Revenue' by multiplying 'Price' and 'Quantity', and group by 'workday' to get average revenue\n",
        "spark_df_grouped_workday = spark_df_with_day.withColumn('Revenue', col('Price') * col('Quantity')) \\\n",
        "                                            .groupBy('workday') \\\n",
        "                                            .agg(avg('Revenue').alias('Average_Revenue')) \\\n",
        "                                            .orderBy('workday')"
      ],
      "metadata": {
        "id": "62CAuMCMN9H3"
      },
      "execution_count": 30,
      "outputs": []
    },
    {
      "cell_type": "code",
      "source": [
        "#Convert the result to a Pandas DataFrame for easier plotting\n",
        "df_workday_pandas = spark_df_grouped_workday.toPandas()"
      ],
      "metadata": {
        "id": "K9FeHuRTN9Nv"
      },
      "execution_count": 31,
      "outputs": []
    },
    {
      "cell_type": "code",
      "source": [
        "#  Plot the average revenue by workday\n",
        "plt.figure(figsize=(10, 6))\n",
        "sns.lineplot(x='workday', y='Average_Revenue', data=df_workday_pandas, marker='o')\n",
        "\n",
        "# Customize the plot\n",
        "plt.title('Average Revenue by Workday')\n",
        "plt.xlabel('Workday')\n",
        "plt.ylabel('Average Revenue')\n",
        "\n",
        "# Set x-axis ticks and labels to represent the days of the week\n",
        "plt.xticks(ticks=[1, 2, 3, 4, 5, 6, 7],\n",
        "           labels=['Sunday', 'Monday', 'Tuesday', 'Wednesday', 'Thursday', 'Friday', 'Saturday'])\n",
        "\n",
        "# Adjust the layout for better readability\n",
        "plt.tight_layout()\n",
        "\n",
        "# Show the plot\n",
        "plt.show()"
      ],
      "metadata": {
        "colab": {
          "base_uri": "https://localhost:8080/",
          "height": 607
        },
        "id": "t1vU8UPWN9TW",
        "outputId": "7dd1013d-9139-435c-a2a0-9f78fc27e5df"
      },
      "execution_count": 32,
      "outputs": [
        {
          "output_type": "display_data",
          "data": {
            "text/plain": [
              "<Figure size 1000x600 with 1 Axes>"
            ],
            "image/png": "[encoded data removed]"
          },
          "metadata": {}
        }
      ]
    },
    {
      "cell_type": "markdown",
      "source": [
        "1.3.2"
      ],
      "metadata": {
        "id": "ikeEYpMAOZqp"
      }
    },
    {
      "cell_type": "code",
      "source": [
        "# Find the workday with the highest average revenue\n",
        "max_revenue_workday = spark_df_grouped_workday.orderBy(col('Average_Revenue').desc()).first()['workday']"
      ],
      "metadata": {
        "id": "-YzMFPC3N9Xq"
      },
      "execution_count": 33,
      "outputs": []
    },
    {
      "cell_type": "code",
      "source": [
        "# Recreating 'productName_process' by removing non-alphabetic characters\n",
        "spark_df_with_day = spark_df_with_day.withColumn('productName_process', regexp_replace(col('ProductName'), '[^a-zA-Z ]', ''))"
      ],
      "metadata": {
        "id": "zz_4ITYuO4B3"
      },
      "execution_count": 34,
      "outputs": []
    },
    {
      "cell_type": "code",
      "source": [
        "# filter the data for that specific workday (as before)\n",
        "df_filtered = spark_df_with_day.filter(col('workday') == max_revenue_workday)"
      ],
      "metadata": {
        "id": "HSS3_dkPPCOX"
      },
      "execution_count": 35,
      "outputs": []
    },
    {
      "cell_type": "code",
      "source": [
        "# Identify the product with the highest revenue on that workday\n",
        "df_highest_revenue_product = df_filtered.groupBy('productName_process') \\\n",
        "                                        .agg(_sum('Revenue').alias('Total_Revenue')) \\\n",
        "                                        .orderBy(col('Total_Revenue').desc())"
      ],
      "metadata": {
        "id": "M_PgNPMxPCcS"
      },
      "execution_count": 36,
      "outputs": []
    },
    {
      "cell_type": "code",
      "source": [
        "# Get the product name with the highest revenue\n",
        "highest_revenue_product = df_highest_revenue_product.first()['productName_process']"
      ],
      "metadata": {
        "id": "9wTkYslLPLu2"
      },
      "execution_count": 37,
      "outputs": []
    },
    {
      "cell_type": "code",
      "source": [
        "# Identify the product with the highest sales volume (sum of Quantity) on that workday\n",
        "df_highest_sales_product = df_filtered.groupBy('productName_process') \\\n",
        "                                      .agg(_sum('Quantity').alias('Total_Quantity')) \\\n",
        "                                      .orderBy(col('Total_Quantity').desc())"
      ],
      "metadata": {
        "id": "tnyjJ7FVPOeK"
      },
      "execution_count": 38,
      "outputs": []
    },
    {
      "cell_type": "code",
      "source": [
        "# Get the product name with the highest sales volume\n",
        "highest_sales_volume_product = df_highest_sales_product.first()['productName_process']"
      ],
      "metadata": {
        "id": "3hnCloBUPTWD"
      },
      "execution_count": 39,
      "outputs": []
    },
    {
      "cell_type": "code",
      "source": [
        "# Display the results\n",
        "print(f\"Workday with the highest average revenue: {max_revenue_workday}\")\n",
        "print(f\"Product with the highest revenue: {highest_revenue_product}\")\n",
        "print(f\"Product with the highest sales volume: {highest_sales_volume_product}\")"
      ],
      "metadata": {
        "colab": {
          "base_uri": "https://localhost:8080/",
          "height": 0
        },
        "id": "76uTLHr4OzjZ",
        "outputId": "e08e1549-5c8d-4aec-fa16-f87713e8e74d"
      },
      "execution_count": 40,
      "outputs": [
        {
          "output_type": "stream",
          "name": "stdout",
          "text": [
            "Workday with the highest average revenue: 5\n",
            "Product with the highest revenue: Paper Craft Little Birdie\n",
            "Product with the highest sales volume: Popcorn Holder\n"
          ]
        }
      ]
    },
    {
      "cell_type": "markdown",
      "source": [
        "**1.3.3**"
      ],
      "metadata": {
        "id": "1qdv2uWMPdUY"
      }
    },
    {
      "cell_type": "code",
      "source": [
        "# Calculate total revenue for each product\n",
        "df_total_revenue = spark_df_with_day.groupBy('productName_process') \\\n",
        "                                    .agg(_sum('Revenue').alias('Total_Revenue')) \\\n",
        "                                    .orderBy(col('Total_Revenue').desc())"
      ],
      "metadata": {
        "id": "8sLmCpi1Pm_B"
      },
      "execution_count": 41,
      "outputs": []
    },
    {
      "cell_type": "code",
      "source": [
        "# Convert to Pandas DataFrame for plotting\n",
        "df_total_revenue_pandas = df_total_revenue.limit(5).toPandas()"
      ],
      "metadata": {
        "id": "yb88xyXHPq7A"
      },
      "execution_count": 42,
      "outputs": []
    },
    {
      "cell_type": "code",
      "source": [
        "# Calculate total sales volume (sum of Quantity) for each product\n",
        "df_total_sales_volume = spark_df_with_day.groupBy('productName_process') \\\n",
        "                                         .agg(_sum('Quantity').alias('Total_Quantity')) \\\n",
        "                                         .orderBy(col('Total_Quantity').desc())"
      ],
      "metadata": {
        "id": "-VRogMtzPs5W"
      },
      "execution_count": 43,
      "outputs": []
    },
    {
      "cell_type": "code",
      "source": [
        "# Convert to Pandas DataFrame for plotting\n",
        "df_total_sales_volume_pandas = df_total_sales_volume.limit(5).toPandas()"
      ],
      "metadata": {
        "id": "0YQmE5UaPyb-"
      },
      "execution_count": 44,
      "outputs": []
    },
    {
      "cell_type": "code",
      "source": [
        "# Plot the top 5 products with the highest revenue\n",
        "plt.figure(figsize=(10, 6))\n",
        "sns.barplot(x='Total_Revenue', y='productName_process', data=df_total_revenue_pandas, hue='productName_process', dodge=False, legend=False)\n",
        "plt.title('Top 5 Products by Revenue')\n",
        "plt.xlabel('Total Revenue')\n",
        "plt.ylabel('Product Name')\n",
        "plt.tight_layout()\n",
        "plt.show()"
      ],
      "metadata": {
        "colab": {
          "base_uri": "https://localhost:8080/",
          "height": 607
        },
        "id": "FZ6Tz5-LOzn4",
        "outputId": "621c6e67-ae02-4674-e364-ec8c7475b6e3"
      },
      "execution_count": 45,
      "outputs": [
        {
          "output_type": "display_data",
          "data": {
            "text/plain": [
              "<Figure size 1000x600 with 1 Axes>"
            ],
            "image/png": "[encoded data removed]"
          },
          "metadata": {}
        }
      ]
    },
    {
      "cell_type": "code",
      "source": [
        "# Plot the top 5 products with the highest sales volume\n",
        "plt.figure(figsize=(10, 6))\n",
        "sns.barplot(x='Total_Quantity', y='productName_process', data=df_total_sales_volume_pandas, hue='productName_process', dodge=False, legend=False)\n",
        "plt.title('Top 5 Products by Sales Volume')\n",
        "plt.xlabel('Total Quantity Sold')\n",
        "plt.ylabel('Product Name')\n",
        "plt.tight_layout()\n",
        "plt.show()"
      ],
      "metadata": {
        "colab": {
          "base_uri": "https://localhost:8080/",
          "height": 607
        },
        "id": "rN6XZUyuOzvF",
        "outputId": "47ad5078-27b4-4b10-967b-e36087f0ba01"
      },
      "execution_count": 46,
      "outputs": [
        {
          "output_type": "display_data",
          "data": {
            "text/plain": [
              "<Figure size 1000x600 with 1 Axes>"
            ],
            "image/png": "[encoded data removed]"
          },
          "metadata": {}
        }
      ]
    },
    {
      "cell_type": "markdown",
      "source": [
        "**Question 4**"
      ],
      "metadata": {
        "id": "EDB_lYZDQKfv"
      }
    },
    {
      "cell_type": "code",
      "source": [
        "from pyspark.sql.functions import month, col\n",
        "from pyspark.sql.functions import to_date, col"
      ],
      "metadata": {
        "id": "lsPnBHO7Oz0b"
      },
      "execution_count": 47,
      "outputs": []
    },
    {
      "cell_type": "code",
      "source": [
        "spark_df_with_day = spark_df.withColumn('transaction_date', to_date(col('Date'), 'MM/dd/yyyy'))"
      ],
      "metadata": {
        "id": "_4WwB5iuOz5_"
      },
      "execution_count": 48,
      "outputs": []
    },
    {
      "cell_type": "code",
      "source": [
        "spark.conf.set(\"spark.sql.legacy.timeParserPolicy\", \"LEGACY\")"
      ],
      "metadata": {
        "id": "Ze8WPqw4Oz_a"
      },
      "execution_count": 49,
      "outputs": []
    },
    {
      "cell_type": "code",
      "source": [
        "# Group by 'Country' and calculate total revenue for each country\n",
        "df_country_revenue = spark_df_with_day.groupBy('Country') \\\n",
        "                                      .agg(_sum('Revenue').alias('Total_Revenue')) \\\n",
        "                                      .orderBy(col('Total_Revenue').desc())"
      ],
      "metadata": {
        "id": "VgG8QLzqO0Eg"
      },
      "execution_count": 50,
      "outputs": []
    },
    {
      "cell_type": "code",
      "source": [
        "# Get the country with the highest total revenue\n",
        "highest_revenue_country = df_country_revenue.first()['Country']\n",
        "print(f\"Country with the highest total revenue: {highest_revenue_country}\")"
      ],
      "metadata": {
        "colab": {
          "base_uri": "https://localhost:8080/",
          "height": 0
        },
        "id": "-LWp7y6PO0M2",
        "outputId": "b8ad532c-ccda-4433-b632-c4ebc124f555"
      },
      "execution_count": 51,
      "outputs": [
        {
          "output_type": "stream",
          "name": "stdout",
          "text": [
            "Country with the highest total revenue: United Kingdom\n"
          ]
        }
      ]
    },
    {
      "cell_type": "code",
      "source": [
        "# Filter the data for that country\n",
        "df_country_filtered = spark_df_with_day.filter(col('Country') == highest_revenue_country)"
      ],
      "metadata": {
        "id": "3Y-8_h9oQkf1"
      },
      "execution_count": 52,
      "outputs": []
    },
    {
      "cell_type": "code",
      "source": [
        "# Add a 'month' column to the DataFrame\n",
        "df_country_filtered = df_country_filtered.withColumn('month', month(col('transaction_date')))"
      ],
      "metadata": {
        "id": "Gqdd4C1AQkrP"
      },
      "execution_count": 53,
      "outputs": []
    },
    {
      "cell_type": "code",
      "source": [
        "# Group by 'month' and calculate total revenue for each month in that country\n",
        "df_month_revenue = df_country_filtered.groupBy('month') \\\n",
        "                                      .agg(_sum('Revenue').alias('Total_Revenue')) \\\n",
        "                                      .orderBy(col('Total_Revenue').desc())"
      ],
      "metadata": {
        "id": "rPT928CIQkzB"
      },
      "execution_count": 54,
      "outputs": []
    },
    {
      "cell_type": "code",
      "source": [
        "# Get the month with the highest total revenue in that country\n",
        "highest_revenue_month = df_month_revenue.first()['month']\n",
        "print(f\"Month with the highest revenue in {highest_revenue_country}: {highest_revenue_month}\")"
      ],
      "metadata": {
        "colab": {
          "base_uri": "https://localhost:8080/",
          "height": 0
        },
        "id": "xZOK0vtoQk5q",
        "outputId": "20f60193-13ad-4d85-94cf-01e056fe9769"
      },
      "execution_count": 55,
      "outputs": [
        {
          "output_type": "stream",
          "name": "stdout",
          "text": [
            "Month with the highest revenue in United Kingdom: 11\n"
          ]
        }
      ]
    },
    {
      "cell_type": "markdown",
      "source": [
        "**1.5**"
      ],
      "metadata": {
        "id": "L3dgvZ81Q27D"
      }
    },
    {
      "cell_type": "code",
      "source": [
        "from pyspark.sql.functions import countDistinct\n",
        "from pyspark.sql.functions import sum as _sum"
      ],
      "metadata": {
        "id": "qkmAxyREQlB8"
      },
      "execution_count": 56,
      "outputs": []
    },
    {
      "cell_type": "code",
      "source": [
        "# Filter out transactions where Quantity <= 0\n",
        "df_filtered_shopping = spark_df.filter(col('Quantity') > 0)"
      ],
      "metadata": {
        "id": "DUO9xumxQlM9"
      },
      "execution_count": 57,
      "outputs": []
    },
    {
      "cell_type": "code",
      "source": [
        "# Count distinct transactions for each customer\n",
        "df_customer_transaction_count = df_filtered_shopping.groupBy('CustomerNo') \\\n",
        "    .agg(countDistinct('TransactionNo').alias('Distinct_Transaction_Count'))"
      ],
      "metadata": {
        "id": "YP4rx6zXQlSB"
      },
      "execution_count": 58,
      "outputs": []
    },
    {
      "cell_type": "code",
      "source": [
        "# Show the result to verify\n",
        "df_customer_transaction_count.show()"
      ],
      "metadata": {
        "colab": {
          "base_uri": "https://localhost:8080/",
          "height": 0
        },
        "id": "6VpuFb0CRJ9c",
        "outputId": "1b471451-9f5c-4593-cf29-f16f1931a81d"
      },
      "execution_count": 59,
      "outputs": [
        {
          "output_type": "stream",
          "name": "stdout",
          "text": [
            "+----------+--------------------------+\n",
            "|CustomerNo|Distinct_Transaction_Count|\n",
            "+----------+--------------------------+\n",
            "|     17703|                         4|\n",
            "|     13098|                        28|\n",
            "|     13638|                         1|\n",
            "|     17048|                         3|\n",
            "|     16597|                         1|\n",
            "|     16896|                         1|\n",
            "|     15237|                         5|\n",
            "|     15194|                        15|\n",
            "|     17043|                         4|\n",
            "|     14719|                         6|\n",
            "|     13460|                         3|\n",
            "|     15322|                         1|\n",
            "|     13518|                         2|\n",
            "|     15432|                         1|\n",
            "|     18147|                         2|\n",
            "|     17979|                         4|\n",
            "|     13248|                         2|\n",
            "|     16530|                         1|\n",
            "|     18196|                         2|\n",
            "|     15663|                         1|\n",
            "+----------+--------------------------+\n",
            "only showing top 20 rows\n",
            "\n"
          ]
        }
      ]
    },
    {
      "cell_type": "code",
      "source": [
        "# Find the customer with the highest count of distinct transactions\n",
        "highest_frequency_customer = df_customer_transaction_count.orderBy(col('Distinct_Transaction_Count').desc()).first()['CustomerNo']\n",
        "print(f\"Customer with the highest frequency of transactions: {highest_frequency_customer}\")"
      ],
      "metadata": {
        "colab": {
          "base_uri": "https://localhost:8080/",
          "height": 0
        },
        "id": "8kJfTwVuRKCX",
        "outputId": "04205fd1-ff87-461a-ed4a-91ed750e5b51"
      },
      "execution_count": 60,
      "outputs": [
        {
          "output_type": "stream",
          "name": "stdout",
          "text": [
            "Customer with the highest frequency of transactions: 12748\n"
          ]
        }
      ]
    },
    {
      "cell_type": "code",
      "source": [
        "# Filter transactions for the customer with the highest frequency\n",
        "df_customer_products = df_filtered_shopping.filter(col('CustomerNo') == highest_frequency_customer)"
      ],
      "metadata": {
        "id": "Fzxi2DK7RXOD"
      },
      "execution_count": 61,
      "outputs": []
    },
    {
      "cell_type": "code",
      "source": [
        "# Recreating 'productName_process' by removing non-alphabetic characters\n",
        "df_customer_products = df_customer_products.withColumn('productName_process',\n",
        "    regexp_replace(col('ProductName'), '[^a-zA-Z ]', ''))"
      ],
      "metadata": {
        "id": "rLUjcwI3Rggs"
      },
      "execution_count": 62,
      "outputs": []
    },
    {
      "cell_type": "code",
      "source": [
        "# Aggregate the quantity of products purchased\n",
        "df_customer_product_summary = df_customer_products.groupBy('productName_process') \\\n",
        "    .agg(_sum('Quantity').alias('Total_Quantity')) \\\n",
        "    .orderBy(col('Total_Quantity').desc())"
      ],
      "metadata": {
        "id": "rDcpYXMWRKIV"
      },
      "execution_count": 63,
      "outputs": []
    },
    {
      "cell_type": "code",
      "source": [
        "# Show the result to verify\n",
        "df_customer_product_summary.show()"
      ],
      "metadata": {
        "colab": {
          "base_uri": "https://localhost:8080/",
          "height": 0
        },
        "id": "DC-CVEClRKNZ",
        "outputId": "e958f1ba-2450-4aa4-9adc-bb4e77d7790a"
      },
      "execution_count": 64,
      "outputs": [
        {
          "output_type": "stream",
          "name": "stdout",
          "text": [
            "+--------------------+--------------+\n",
            "| productName_process|Total_Quantity|\n",
            "+--------------------+--------------+\n",
            "|Victorian Metal P...|           595|\n",
            "|World War  Glider...|           480|\n",
            "|Rose Scent Candle...|           408|\n",
            "|Cartoon Pencil Sh...|           405|\n",
            "|Small White Retro...|           390|\n",
            "|Vanilla Scent Can...|           380|\n",
            "|Small Red Retrosp...|           372|\n",
            "|Bubblegum Ring As...|           318|\n",
            "|Popart Wooden Pen...|           300|\n",
            "|Ocean Scent Candl...|           225|\n",
            "|Assorted Creepy C...|           216|\n",
            "|Pens Assorted Fun...|           216|\n",
            "|      Garage Key Fob|           174|\n",
            "|Marie Antoinette ...|           168|\n",
            "|        Key Fob Shed|           164|\n",
            "|  Brocade Ring Purse|           158|\n",
            "|Wrap Christmas Sc...|           150|\n",
            "|Jazz Hearts Purse...|           147|\n",
            "|      Popcorn Holder|           147|\n",
            "|Beaded Chandelier...|           144|\n",
            "+--------------------+--------------+\n",
            "only showing top 20 rows\n",
            "\n"
          ]
        }
      ]
    },
    {
      "cell_type": "markdown",
      "source": [
        "**Question 6**"
      ],
      "metadata": {
        "id": "bbTufWnMR2aZ"
      }
    },
    {
      "cell_type": "markdown",
      "source": [
        "**1.6.1**"
      ],
      "metadata": {
        "id": "4dCnsCrhR6qE"
      }
    },
    {
      "cell_type": "code",
      "source": [
        "from pyspark.sql.functions import col"
      ],
      "metadata": {
        "id": "q1ajbuC4RKTv"
      },
      "execution_count": 65,
      "outputs": []
    },
    {
      "cell_type": "code",
      "source": [
        "# Filter the DataFrame to include only rows with Quantity > 0\n",
        "df_filtered = df.filter(col('Quantity') > 0)"
      ],
      "metadata": {
        "id": "qCAV-t1iSA8R"
      },
      "execution_count": 66,
      "outputs": []
    },
    {
      "cell_type": "code",
      "source": [
        "from pyspark.sql.functions import collect_list"
      ],
      "metadata": {
        "id": "1LhQohFGSElN"
      },
      "execution_count": 67,
      "outputs": []
    },
    {
      "cell_type": "code",
      "source": [
        "# Recreating 'productName_process' by removing non-alphabetic characters\n",
        "df_filtered = df_filtered.withColumn('productName_process', regexp_replace(col('ProductName'), '[^a-zA-Z ]', ''))"
      ],
      "metadata": {
        "id": "Sss0MhLvSIff"
      },
      "execution_count": 68,
      "outputs": []
    },
    {
      "cell_type": "code",
      "source": [
        "# Group by 'TransactionNo' and aggregate 'product_category' and 'productName_process' into lists\n",
        "df_basket_analysis = df_filtered.groupBy('TransactionNo') \\\n",
        "    .agg(\n",
        "        collect_list('Product_category').alias('product_categories'),\n",
        "        collect_list('productName_process').alias('product_names')\n",
        "    )"
      ],
      "metadata": {
        "id": "t5-az_YRSMvp"
      },
      "execution_count": 69,
      "outputs": []
    },
    {
      "cell_type": "code",
      "source": [
        "# Show the result\n",
        "df_basket_analysis.show(truncate=False)"
      ],
      "metadata": {
        "colab": {
          "base_uri": "https://localhost:8080/",
          "height": 0
        },
        "id": "XXBCsAylRKZL",
        "outputId": "298de116-bafa-4268-bd5f-07d17a2b0945"
      },
      "execution_count": 70,
      "outputs": [
        {
          "output_type": "stream",
          "name": "stdout",
          "text": [
            "+-------------+--------------------------------------------------------------------------------------------------------------------------------------------+--------------------------------------------------------------------------------------------------------------------------------------------------------------------------------------------------------------------------------------------------------------------------------------------------------------------------------------------------------------------------------------------------------------------------------------------------------------------------------------------------------------------------------------------------------------------------------------------------------------------------------------------------------------------------------------------------------------------------------------------------------------------------------------------------------------------------+\n",
            "|TransactionNo|product_categories                                                                                                                          |product_names                                                                                                                                                                                                                                                                                                                                                                                                                                                                                                                                                                                                                                                                                                                                                                                                             |\n",
            "+-------------+--------------------------------------------------------------------------------------------------------------------------------------------+--------------------------------------------------------------------------------------------------------------------------------------------------------------------------------------------------------------------------------------------------------------------------------------------------------------------------------------------------------------------------------------------------------------------------------------------------------------------------------------------------------------------------------------------------------------------------------------------------------------------------------------------------------------------------------------------------------------------------------------------------------------------------------------------------------------------------+\n",
            "|536366       |[0ca, 0ca]                                                                                                                                  |[Hand Warmer Union Jack, Hand Warmer Red Retrospot]                                                                                                                                                                                                                                                                                                                                                                                                                                                                                                                                                                                                                                                                                                                                                                       |\n",
            "|536367       |[0ca, 0ca, 0ca, 0ca, 0ca, 0ca, 0ca, 0ca, 0ca, 0ca, 0ca, 0ca]                                                                                |[Assorted Colour Bird Ornament, Poppys Playhouse Bedroom, Poppys Playhouse Kitchen, Feltcraft Princess Charlotte Doll, Ivory Knitted Mug Cosy, Box Of  Assorted Colour Teaspoons, Box Of Vintage Jigsaw Blocks, Home Building Block Word, Love Building Block Word, Recipe Box With Metal Heart, Doormat New England, Box Of Vintage Alphabet Blocks]                                                                                                                                                                                                                                                                                                                                                                                                                                                                     |\n",
            "|536371       |[0ca]                                                                                                                                       |[Paper Chain Kit S Christmas]                                                                                                                                                                                                                                                                                                                                                                                                                                                                                                                                                                                                                                                                                                                                                                                             |\n",
            "|536374       |[0ca]                                                                                                                                       |[Victorian Sewing Box Large]                                                                                                                                                                                                                                                                                                                                                                                                                                                                                                                                                                                                                                                                                                                                                                                              |\n",
            "|536375       |[0ca, 0ca, 0ca, 0ca, 0ca, 0ca, 0ca, 0ca, 0ca, 0ca, 0ca, 0ca, 0ca, 0ca, 0ca, 0ca]                                                            |[Cream Hanging Heart TLight Holder, White Moroccan Metal Lantern, Cream Cupid Hearts Coat Hanger, Edwardian Parasol Red, Retro Coffee Mugs Assorted, Save The Planet Mug, Vintage Billboard Drink Me Mug, Vintage Billboard LoveHate Mug, Wood  Drawer Cabinet White Finish,  Drawer Antique White Wood Cabinet, Wooden Picture Frame White Finish, Wooden Frame Antique White, Knitted Union Flag Hot Water Bottle, Red Woolly Hottie White Heart, Set  Babushka Nesting Boxes, Glass Star Frosted TLight Holder]                                                                                                                                                                                                                                                                                                        |\n",
            "|536377       |[0ca, 0ca]                                                                                                                                  |[Hand Warmer Red Retrospot, Hand Warmer Union Jack]                                                                                                                                                                                                                                                                                                                                                                                                                                                                                                                                                                                                                                                                                                                                                                       |\n",
            "|536384       |[0ca, 0ca, 0ca, 0ca, 0ca, 0ca, 0ca, 0ca, 0ca, 0ca, 0ca, 0ca, 0ca]                                                                           |[Wood Black Board Ant White Finish, Colour Glass TLight Holder Hanging, Hanging Metal Heart Lantern, Hanging Medina Lantern Small, Natural Slate Heart Chalkboard, Heart Of Wicker Small, Heart Of Wicker Large, White Lovebird Lantern, Cream Heart Card Holder, Enamel Flower Jug Cream, Enamel Fire Bucket Cream, Classic Metal Birdcage Plant Holder, Enamel Bread Bin Cream]                                                                                                                                                                                                                                                                                                                                                                                                                                         |\n",
            "|536385       |[0ca, 0ca, 0ca, 0ca, 0ca, 0ca, 0ca]                                                                                                         |[Jam Making Set Printed, Jam Making Set With Jars, Traditional Christmas Ribbons, Organiser Wood Antique White, Jumbo Bag Dolly Girl Design, Lunch Bag Dolly Girl Design, Set  Wicker Oval Baskets W Lids]                                                                                                                                                                                                                                                                                                                                                                                                                                                                                                                                                                                                                |\n",
            "|536386       |[0ca, 0ca, 0ca]                                                                                                                             |[White Wire Egg Holder, Jumbo Bag Baroque Black White, Jumbo Bag Red Retrospot]                                                                                                                                                                                                                                                                                                                                                                                                                                                                                                                                                                                                                                                                                                                                           |\n",
            "|536387       |[0ca, 0ca, 0ca, 0ca, 0ca]                                                                                                                   |[Chilli Lights, Light Garland Butterfiles Pink, Wooden Owls Light Garland, Fairy Tale Cottage Night Light, Red Toadstool Led Night Light]                                                                                                                                                                                                                                                                                                                                                                                                                                                                                                                                                                                                                                                                                 |\n",
            "|536389       |[0ca, 0ca, 0ca, 0ca, 0ca, 0ca, 0ca, 0ca, 0ca, 0ca, 0ca, 0ca, 0ca, 0ca]                                                                      |[Christmas Lights  Reindeer, Vintage Union Jack Cushion Cover, Vintage Heads And Tails Card Game, Set Of  Coloured Flying Ducks, Set Of  Gold Flying Ducks, Red Retrospot Umbrella, BlackBlue Polkadot Umbrella, Red Diner Wall Clock, Alarm Clock Bakelike Green, Alarm Clock Bakelike Red, Blue Diner Wall Clock, Ivory Diner Wall Clock, Large Heart Measuring Spoons, Small Heart Measuring Spoons]                                                                                                                                                                                                                                                                                                                                                                                                                   |\n",
            "|536392       |[0ca, 0ca, 0ca, 0ca, 0ca, 0ca, 0ca, 0ca, 0ca, 0ca]                                                                                          |[ Stripey Mice Feltcraft, Set Of  Soldier Skittles, Traditional Wooden Skipping Rope, Wooden Box Of Dominoes, Party Cones Carnival Assorted, Party Cones Candy Assorted, Picnic Basket Wicker Small, Assorted Colour Bird Ornament, Star Decoration Painted Zinc, Rustic Seventeen Drawer Sideboard]                                                                                                                                                                                                                                                                                                                                                                                                                                                                                                                      |\n",
            "|536394       |[0ca, 0ca, 0ca, 0ca, 0ca, 0ca, 0ca, 0ca, 0ca, 0ca, 0ca]                                                                                     |[Fancy Font Birthday Card, Hand Warmer Union Jack, Hand Warmer Scotty Dog Design, Hand Warmer Owl Design, Hand Warmer Red Retrospot, Retrospot Heart Hot Water Bottle, Dog Bowl Chasing Ball Design, Clothes Pegs Retrospot Pack , Hand Over The Chocolate Sign, Cream Hanging Heart TLight Holder, Travel Sewing Kit]                                                                                                                                                                                                                                                                                                                                                                                                                                                                                                    |\n",
            "|536395       |[0ca, 0ca, 0ca, 0ca, 1ca, 0ca, 0ca, 0ca, 0ca, 0ca, 0ca, 0ca, 0ca, 0ca]                                                                      |[Black Heart Card Holder, Assorted Colour Bird Ornament, Pack Of  Pink Paisley Cake Cases,  Teatime Fairy Cake Cases, Pack Of  Retrospot Cake Cases, Chick Grey Hot Water Bottle, Small Glass Heart Trinket Pot, Alarm Clock Bakelike Ivory, Alarm Clock Bakelike Red, Alarm Clock Bakelike Orange, Alarm Clock Bakelike Green, Hot Water Bottle Tea And Sympathy, Hand Warmer Bird Design, Hand Warmer Scotty Dog Design]                                                                                                                                                                                                                                                                                                                                                                                                |\n",
            "|536396       |[0ca, 0ca, 0ca, 0ca, 0ca, 0ca, 0ca, 0ca, 0ca, 0ca, 0ca, 0ca, 0ca, 0ca, 0ca, 0ca, 0ca]                                                       |[Cream Hanging Heart TLight Holder, White Moroccan Metal Lantern, Cream Cupid Hearts Coat Hanger, Edwardian Parasol Red, Retro Coffee Mugs Assorted, Save The Planet Mug, Vintage Billboard Drink Me Mug, Vintage Billboard LoveHate Mug, Wood  Drawer Cabinet White Finish,  Drawer Antique White Wood Cabinet, Wooden Picture Frame White Finish, Wooden Frame Antique White, Knitted Union Flag Hot Water Bottle, Red Woolly Hottie White Heart, Set  Babushka Nesting Boxes, Glass Star Frosted TLight Holder, Ivory Embroidered Quilt]                                                                                                                                                                                                                                                                               |\n",
            "|536398       |[0ca, 0ca, 0ca, 0ca, 0ca, 0ca, 0ca, 0ca, 0ca, 0ca, 0ca, 0ca, 0ca, 0ca, 0ca, 0ca, 0ca]                                                       |[Pack Of  Red Retrospot Tissues, Red Retrospot Mug, Babushka Lights String Of , Piggy Bank Retrospot, Set  Babushka Nesting Boxes, Doormat Fairy Cake, Hand Warmer Red Retrospot, Hand Warmer Scotty Dog Design, Hand Warmer Owl Design, Strawberry Ceramic Trinket Pot, Pink Doughnut Trinket Pot, Silk Purse Babushka Pink, Hot Water Bottle Tea And Sympathy, Hot Water Bottle I Am So Poorly, Chocolate Hot Water Bottle, White Skull Hot Water Bottle, Scottie Dog Hot Water Bottle]                                                                                                                                                                                                                                                                                                                                 |\n",
            "|536399       |[0ca, 0ca]                                                                                                                                  |[Hand Warmer Red Retrospot, Hand Warmer Union Jack]                                                                                                                                                                                                                                                                                                                                                                                                                                                                                                                                                                                                                                                                                                                                                                       |\n",
            "|536402       |[0ca, 0ca, 0ca]                                                                                                                             |[Paper Chain Kit S Christmas, Paper Chain Kit Vintage Christmas, Hot Water Bottle Babushka]                                                                                                                                                                                                                                                                                                                                                                                                                                                                                                                                                                                                                                                                                                                               |\n",
            "|536403       |[0ca]                                                                                                                                       |[Hand Warmer Bird Design]                                                                                                                                                                                                                                                                                                                                                                                                                                                                                                                                                                                                                                                                                                                                                                                                 |\n",
            "|536404       |[0ca, 0ca, 0ca, 0ca, 0ca, 0ca, 0ca, 0ca, 0ca, 0ca, 0ca, 0ca, 0ca, 0ca, 0ca, 0ca, 0ca, 0ca, 0ca, 0ca, 0ca, 1ca, 0ca, 0ca, 0ca, 4ca, 0ca, 0ca]|[Heart Ivory Trellis Small, Clear Drawer Knob Acrylic Edwardian, Pink Drawer Knob Acrylic Edwardian, Green Drawer Knob Acrylic Edwardian, Blue Drawer Knob Acrylic Edwardian, Heart Of Wicker Small, Popcorn Holder, Set  Football Celebration Candles, Set Of  Girls Celebration Candles, Romantic Pinks Ribbons, Bright Blues Ribbons, Scandinavian Reds Ribbons, Chocolate Box Ribbons, Party Invites Football, Party Invites Jazz Hearts, Party Invites Spaceman, Set Of  Butterfly Cookie Cutters, Set Of  Heart Cookie Cutters,  Piece Spaceboy Cookie Cutter Set, Pack Of  Skull Cake Cases, Pack Of  Spaceboy Cake Cases, Pack Of  Retrospot Cake Cases,  Sweetheart Fairy Cake Cases, Pack Of  Dinosaur Cake Cases, Heart Ivory Trellis Large, Lunch Bag Suki Design, Lunch Bag Cars Blue, Lunch Bag Black Skull]|\n",
            "+-------------+--------------------------------------------------------------------------------------------------------------------------------------------+--------------------------------------------------------------------------------------------------------------------------------------------------------------------------------------------------------------------------------------------------------------------------------------------------------------------------------------------------------------------------------------------------------------------------------------------------------------------------------------------------------------------------------------------------------------------------------------------------------------------------------------------------------------------------------------------------------------------------------------------------------------------------------------------------------------------------+\n",
            "only showing top 20 rows\n",
            "\n"
          ]
        }
      ]
    },
    {
      "cell_type": "markdown",
      "source": [
        "**1.6.2**"
      ],
      "metadata": {
        "id": "y5z0SDLoS6QU"
      }
    },
    {
      "cell_type": "code",
      "source": [
        "from pyspark.sql.functions import udf, col\n",
        "from pyspark.sql.types import ArrayType, StringType"
      ],
      "metadata": {
        "id": "FyPVbSCQS8WN"
      },
      "execution_count": 71,
      "outputs": []
    },
    {
      "cell_type": "code",
      "source": [
        "# Define the UDF to remove adjacent duplicates\n",
        "def remove_adjacent_duplicates(lst):\n",
        "    if not lst:\n",
        "        return []\n",
        "    result = [lst[0]]\n",
        "    for item in lst[1:]:\n",
        "        if item != result[-1]:\n",
        "            result.append(item)\n",
        "    return result"
      ],
      "metadata": {
        "id": "bZAGyFgpS-2M"
      },
      "execution_count": 72,
      "outputs": []
    },
    {
      "cell_type": "code",
      "source": [
        "# Register the UDF with Spark\n",
        "remove_adjacent_duplicates_udf = udf(remove_adjacent_duplicates, ArrayType(StringType()))"
      ],
      "metadata": {
        "id": "sfnaBtyrTEhZ"
      },
      "execution_count": 73,
      "outputs": []
    },
    {
      "cell_type": "code",
      "source": [
        "# Apply the UDF to the DataFrame\n",
        "df_1 = df_basket_analysis.withColumn('product_categories', remove_adjacent_duplicates_udf(col('product_categories')))"
      ],
      "metadata": {
        "id": "391EHEbMTIE1"
      },
      "execution_count": 74,
      "outputs": []
    },
    {
      "cell_type": "code",
      "source": [
        "# Show the top 10 rows of the processed DataFrame\n",
        "df_1.show(10, truncate=False)"
      ],
      "metadata": {
        "colab": {
          "base_uri": "https://localhost:8080/",
          "height": 0
        },
        "id": "u5vE0Hh6RKdw",
        "outputId": "3436681b-adb9-4a46-b148-13093f97ef70"
      },
      "execution_count": 75,
      "outputs": [
        {
          "output_type": "stream",
          "name": "stdout",
          "text": [
            "+-------------+------------------+------------------------------------------------------------------------------------------------------------------------------------------------------------------------------------------------------------------------------------------------------------------------------------------------------------------------------------------------------------------------------------------------------------------------------------------------------------------------------------------------------------------+\n",
            "|TransactionNo|product_categories|product_names                                                                                                                                                                                                                                                                                                                                                                                                                                                                                                     |\n",
            "+-------------+------------------+------------------------------------------------------------------------------------------------------------------------------------------------------------------------------------------------------------------------------------------------------------------------------------------------------------------------------------------------------------------------------------------------------------------------------------------------------------------------------------------------------------------+\n",
            "|536366       |[0ca]             |[Hand Warmer Union Jack, Hand Warmer Red Retrospot]                                                                                                                                                                                                                                                                                                                                                                                                                                                               |\n",
            "|536367       |[0ca]             |[Assorted Colour Bird Ornament, Poppys Playhouse Bedroom, Poppys Playhouse Kitchen, Feltcraft Princess Charlotte Doll, Ivory Knitted Mug Cosy, Box Of  Assorted Colour Teaspoons, Box Of Vintage Jigsaw Blocks, Home Building Block Word, Love Building Block Word, Recipe Box With Metal Heart, Doormat New England, Box Of Vintage Alphabet Blocks]                                                                                                                                                             |\n",
            "|536371       |[0ca]             |[Paper Chain Kit S Christmas]                                                                                                                                                                                                                                                                                                                                                                                                                                                                                     |\n",
            "|536374       |[0ca]             |[Victorian Sewing Box Large]                                                                                                                                                                                                                                                                                                                                                                                                                                                                                      |\n",
            "|536375       |[0ca]             |[Cream Hanging Heart TLight Holder, White Moroccan Metal Lantern, Cream Cupid Hearts Coat Hanger, Edwardian Parasol Red, Retro Coffee Mugs Assorted, Save The Planet Mug, Vintage Billboard Drink Me Mug, Vintage Billboard LoveHate Mug, Wood  Drawer Cabinet White Finish,  Drawer Antique White Wood Cabinet, Wooden Picture Frame White Finish, Wooden Frame Antique White, Knitted Union Flag Hot Water Bottle, Red Woolly Hottie White Heart, Set  Babushka Nesting Boxes, Glass Star Frosted TLight Holder]|\n",
            "|536377       |[0ca]             |[Hand Warmer Red Retrospot, Hand Warmer Union Jack]                                                                                                                                                                                                                                                                                                                                                                                                                                                               |\n",
            "|536384       |[0ca]             |[Wood Black Board Ant White Finish, Colour Glass TLight Holder Hanging, Hanging Metal Heart Lantern, Hanging Medina Lantern Small, Natural Slate Heart Chalkboard, Heart Of Wicker Small, Heart Of Wicker Large, White Lovebird Lantern, Cream Heart Card Holder, Enamel Flower Jug Cream, Enamel Fire Bucket Cream, Classic Metal Birdcage Plant Holder, Enamel Bread Bin Cream]                                                                                                                                 |\n",
            "|536385       |[0ca]             |[Jam Making Set Printed, Jam Making Set With Jars, Traditional Christmas Ribbons, Organiser Wood Antique White, Jumbo Bag Dolly Girl Design, Lunch Bag Dolly Girl Design, Set  Wicker Oval Baskets W Lids]                                                                                                                                                                                                                                                                                                        |\n",
            "|536386       |[0ca]             |[White Wire Egg Holder, Jumbo Bag Baroque Black White, Jumbo Bag Red Retrospot]                                                                                                                                                                                                                                                                                                                                                                                                                                   |\n",
            "|536387       |[0ca]             |[Chilli Lights, Light Garland Butterfiles Pink, Wooden Owls Light Garland, Fairy Tale Cottage Night Light, Red Toadstool Led Night Light]                                                                                                                                                                                                                                                                                                                                                                         |\n",
            "+-------------+------------------+------------------------------------------------------------------------------------------------------------------------------------------------------------------------------------------------------------------------------------------------------------------------------------------------------------------------------------------------------------------------------------------------------------------------------------------------------------------------------------------------------------------+\n",
            "only showing top 10 rows\n",
            "\n"
          ]
        }
      ]
    },
    {
      "cell_type": "markdown",
      "source": [
        "**Question 1.7**"
      ],
      "metadata": {
        "id": "6HvPWd6RTV78"
      }
    },
    {
      "cell_type": "markdown",
      "source": [
        "**1.7.1**"
      ],
      "metadata": {
        "id": "k_ruulzJTZfL"
      }
    },
    {
      "cell_type": "code",
      "source": [
        "from pyspark.sql.functions import size"
      ],
      "metadata": {
        "id": "vvNs6mjjTT8j"
      },
      "execution_count": 76,
      "outputs": []
    },
    {
      "cell_type": "code",
      "source": [
        "# Add a new column 'prod_len' to calculate the length of the 'product_categories' list\n",
        "df_1 = df_1.withColumn('prod_len', size('product_categories'))"
      ],
      "metadata": {
        "id": "qKS0XseuThmL"
      },
      "execution_count": 77,
      "outputs": []
    },
    {
      "cell_type": "code",
      "source": [
        "# Show the first five rows of the updated DataFrame\n",
        "df_1.show(5, truncate=False)"
      ],
      "metadata": {
        "colab": {
          "base_uri": "https://localhost:8080/",
          "height": 0
        },
        "id": "hw1hiM9pTUAU",
        "outputId": "c43f5515-2e72-4cae-ec3e-55cf42e34d81"
      },
      "execution_count": 78,
      "outputs": [
        {
          "output_type": "stream",
          "name": "stdout",
          "text": [
            "+-------------+------------------+------------------------------------------------------------------------------------------------------------------------------------------------------------------------------------------------------------------------------------------------------------------------------------------------------------------------------------------------------------------------------------------------------------------------------------------------------------------------------------------------------------------+--------+\n",
            "|TransactionNo|product_categories|product_names                                                                                                                                                                                                                                                                                                                                                                                                                                                                                                     |prod_len|\n",
            "+-------------+------------------+------------------------------------------------------------------------------------------------------------------------------------------------------------------------------------------------------------------------------------------------------------------------------------------------------------------------------------------------------------------------------------------------------------------------------------------------------------------------------------------------------------------+--------+\n",
            "|536366       |[0ca]             |[Hand Warmer Union Jack, Hand Warmer Red Retrospot]                                                                                                                                                                                                                                                                                                                                                                                                                                                               |1       |\n",
            "|536367       |[0ca]             |[Assorted Colour Bird Ornament, Poppys Playhouse Bedroom, Poppys Playhouse Kitchen, Feltcraft Princess Charlotte Doll, Ivory Knitted Mug Cosy, Box Of  Assorted Colour Teaspoons, Box Of Vintage Jigsaw Blocks, Home Building Block Word, Love Building Block Word, Recipe Box With Metal Heart, Doormat New England, Box Of Vintage Alphabet Blocks]                                                                                                                                                             |1       |\n",
            "|536371       |[0ca]             |[Paper Chain Kit S Christmas]                                                                                                                                                                                                                                                                                                                                                                                                                                                                                     |1       |\n",
            "|536374       |[0ca]             |[Victorian Sewing Box Large]                                                                                                                                                                                                                                                                                                                                                                                                                                                                                      |1       |\n",
            "|536375       |[0ca]             |[Cream Hanging Heart TLight Holder, White Moroccan Metal Lantern, Cream Cupid Hearts Coat Hanger, Edwardian Parasol Red, Retro Coffee Mugs Assorted, Save The Planet Mug, Vintage Billboard Drink Me Mug, Vintage Billboard LoveHate Mug, Wood  Drawer Cabinet White Finish,  Drawer Antique White Wood Cabinet, Wooden Picture Frame White Finish, Wooden Frame Antique White, Knitted Union Flag Hot Water Bottle, Red Woolly Hottie White Heart, Set  Babushka Nesting Boxes, Glass Star Frosted TLight Holder]|1       |\n",
            "+-------------+------------------+------------------------------------------------------------------------------------------------------------------------------------------------------------------------------------------------------------------------------------------------------------------------------------------------------------------------------------------------------------------------------------------------------------------------------------------------------------------------------------------------------------------+--------+\n",
            "only showing top 5 rows\n",
            "\n"
          ]
        }
      ]
    },
    {
      "cell_type": "markdown",
      "source": [
        "**1.7.2**"
      ],
      "metadata": {
        "id": "N-EmUg87TtbL"
      }
    },
    {
      "cell_type": "code",
      "source": [
        "from pyspark.sql.functions import col, udf, array_join"
      ],
      "metadata": {
        "id": "wJNkTUMFTwAT"
      },
      "execution_count": 80,
      "outputs": []
    },
    {
      "cell_type": "code",
      "source": [
        "from pyspark.sql.types import StringType"
      ],
      "metadata": {
        "id": "jSUvxViXT7iK"
      },
      "execution_count": 81,
      "outputs": []
    },
    {
      "cell_type": "code",
      "source": [
        "# Define the function to process data\n",
        "def data_processing(df, maxlength=3, minlength=1):\n",
        "    # Filter the dataframe based on prod_len\n",
        "    df_filtered = df.filter((col('prod_len') <= maxlength) & (col('prod_len') >= minlength))\n",
        "\n",
        "    # Define a UDF to transform the list\n",
        "    def transform_list(categories):\n",
        "        if categories:\n",
        "            return 'start > ' + ' > '.join(categories) + ' > conversion'\n",
        "        else:\n",
        "            return 'start > conversion'\n",
        "\n",
        "    # Register the UDF\n",
        "    transform_udf = udf(transform_list, StringType())\n",
        "\n",
        "    # Apply the UDF to create the 'path' column\n",
        "    df_transformed = df_filtered.withColumn('path', transform_udf(col('product_categories')))\n",
        "\n",
        "    return df_transformed"
      ],
      "metadata": {
        "id": "6Kfa7D8STyFF"
      },
      "execution_count": 82,
      "outputs": []
    },
    {
      "cell_type": "code",
      "source": [
        "# Run the function with df_1\n",
        "df_2 = data_processing(df_1, maxlength=5, minlength=2)"
      ],
      "metadata": {
        "id": "j6JJvsShTUE1"
      },
      "execution_count": 83,
      "outputs": []
    },
    {
      "cell_type": "code",
      "source": [
        "# Print the top 10 rows of df_2\n",
        "df_2.show(2, truncate=False)"
      ],
      "metadata": {
        "colab": {
          "base_uri": "https://localhost:8080/",
          "height": 0
        },
        "id": "UgK1TaCeTUJN",
        "outputId": "c459c728-6f1c-4b8a-a2bb-55b07677ef34"
      },
      "execution_count": 84,
      "outputs": [
        {
          "output_type": "stream",
          "name": "stdout",
          "text": [
            "+-------------+-------------------------+--------------------------------------------------------------------------------------------------------------------------------------------------------------------------------------------------------------------------------------------------------------------------------------------------------------------------------------------------------------------------------------------------------------------------------------------------------------------------------------------------------------------------------------------------------------------------------------------------------------------------------------------------------------------------------------------------------------------------------------------------------------------------------------------------------------------------+--------+------------------------------------------------+\n",
            "|TransactionNo|product_categories       |product_names                                                                                                                                                                                                                                                                                                                                                                                                                                                                                                                                                                                                                                                                                                                                                                                                             |prod_len|path                                            |\n",
            "+-------------+-------------------------+--------------------------------------------------------------------------------------------------------------------------------------------------------------------------------------------------------------------------------------------------------------------------------------------------------------------------------------------------------------------------------------------------------------------------------------------------------------------------------------------------------------------------------------------------------------------------------------------------------------------------------------------------------------------------------------------------------------------------------------------------------------------------------------------------------------------------+--------+------------------------------------------------+\n",
            "|536395       |[0ca, 1ca, 0ca]          |[Black Heart Card Holder, Assorted Colour Bird Ornament, Pack Of  Pink Paisley Cake Cases,  Teatime Fairy Cake Cases, Pack Of  Retrospot Cake Cases, Chick Grey Hot Water Bottle, Small Glass Heart Trinket Pot, Alarm Clock Bakelike Ivory, Alarm Clock Bakelike Red, Alarm Clock Bakelike Orange, Alarm Clock Bakelike Green, Hot Water Bottle Tea And Sympathy, Hand Warmer Bird Design, Hand Warmer Scotty Dog Design]                                                                                                                                                                                                                                                                                                                                                                                                |3       |start > 0ca > 1ca > 0ca > conversion            |\n",
            "|536404       |[0ca, 1ca, 0ca, 4ca, 0ca]|[Heart Ivory Trellis Small, Clear Drawer Knob Acrylic Edwardian, Pink Drawer Knob Acrylic Edwardian, Green Drawer Knob Acrylic Edwardian, Blue Drawer Knob Acrylic Edwardian, Heart Of Wicker Small, Popcorn Holder, Set  Football Celebration Candles, Set Of  Girls Celebration Candles, Romantic Pinks Ribbons, Bright Blues Ribbons, Scandinavian Reds Ribbons, Chocolate Box Ribbons, Party Invites Football, Party Invites Jazz Hearts, Party Invites Spaceman, Set Of  Butterfly Cookie Cutters, Set Of  Heart Cookie Cutters,  Piece Spaceboy Cookie Cutter Set, Pack Of  Skull Cake Cases, Pack Of  Spaceboy Cake Cases, Pack Of  Retrospot Cake Cases,  Sweetheart Fairy Cake Cases, Pack Of  Dinosaur Cake Cases, Heart Ivory Trellis Large, Lunch Bag Suki Design, Lunch Bag Cars Blue, Lunch Bag Black Skull]|5       |start > 0ca > 1ca > 0ca > 4ca > 0ca > conversion|\n",
            "+-------------+-------------------------+--------------------------------------------------------------------------------------------------------------------------------------------------------------------------------------------------------------------------------------------------------------------------------------------------------------------------------------------------------------------------------------------------------------------------------------------------------------------------------------------------------------------------------------------------------------------------------------------------------------------------------------------------------------------------------------------------------------------------------------------------------------------------------------------------------------------------+--------+------------------------------------------------+\n",
            "only showing top 2 rows\n",
            "\n"
          ]
        }
      ]
    }
  ]
}